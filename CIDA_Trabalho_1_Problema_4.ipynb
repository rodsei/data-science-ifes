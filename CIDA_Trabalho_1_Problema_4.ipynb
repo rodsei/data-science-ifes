{
  "nbformat": 4,
  "nbformat_minor": 0,
  "metadata": {
    "colab": {
      "name": "CIDA - Trabalho 1 - Problema 4.ipynb",
      "provenance": [],
      "collapsed_sections": [],
      "authorship_tag": "ABX9TyMxQXEqb3FadnyDO9z6PvGK",
      "include_colab_link": true
    },
    "kernelspec": {
      "name": "python3",
      "display_name": "Python 3"
    },
    "language_info": {
      "name": "python"
    }
  },
  "cells": [
    {
      "cell_type": "markdown",
      "metadata": {
        "id": "view-in-github",
        "colab_type": "text"
      },
      "source": [
        "<a href=\"https://colab.research.google.com/github/rodsei/data-science-ifes/blob/main/CIDA_Trabalho_1_Problema_4.ipynb\" target=\"_parent\"><img src=\"https://colab.research.google.com/assets/colab-badge.svg\" alt=\"Open In Colab\"/></a>"
      ]
    },
    {
      "cell_type": "markdown",
      "metadata": {
        "id": "WxueRfr8W0qS"
      },
      "source": [
        "# Previsão em Séries Temporais com LSTM (Long Short-Term Memory)\n",
        "\n",
        "---"
      ]
    },
    {
      "cell_type": "markdown",
      "metadata": {
        "id": "-xEu3ZqMe6AF"
      },
      "source": [
        "### Conteúdo"
      ]
    },
    {
      "cell_type": "markdown",
      "metadata": {
        "id": "SfdXsv3Ee9IU"
      },
      "source": [
        "1. [Introdução](https://colab.research.google.com/drive/1GzBZEsKzXPYComUD2feOprKexglmQe3r#scrollTo=vLQXQ8pJ3dAD)\n",
        "2. []()\n",
        "3. []()\n",
        "4. []()\n",
        "5. []()"
      ]
    },
    {
      "cell_type": "markdown",
      "metadata": {
        "id": "mcaBs67qeMnj"
      },
      "source": [
        "### Referência"
      ]
    },
    {
      "cell_type": "markdown",
      "metadata": {
        "id": "cvBZNaC8ePIk"
      },
      "source": [
        "Jason Brownlee. Time Series Forecasting with the Long Short-Term Memory Network in Python. en- US.Abr.de2017.url: https://machinelearningmastery.com/time-series-forecasting-long-short-term-memory-network-python/ (acesso em 11/08/2021)"
      ]
    },
    {
      "cell_type": "markdown",
      "metadata": {
        "id": "vLQXQ8pJ3dAD"
      },
      "source": [
        "# 1. Introdução"
      ]
    },
    {
      "cell_type": "markdown",
      "metadata": {
        "id": "5cvqNWqBtkSx"
      },
      "source": [
        "As redes LSTM são redes neurais recorrentes que têm a capacidade de aprender sequências mais longas de observações. Para testar suas capacidades em séries temporais, vamos desenvolver um modelo preditivo com LSTM para um problema de predição univariada de uma etapa.\n",
        "\n",
        "Ao longo desse *notebook* vamos criar uma linha de base para comparação de desempenho em problemas de predição, elaborar um teste robusto para atender o problema de predição de séries temporais e por fim, preparar os dados, desenvolver o modelo e avaliar os resultados.\n",
        "\n"
      ]
    },
    {
      "cell_type": "markdown",
      "metadata": {
        "id": "-a7azlXpjSY4"
      },
      "source": [
        "# 2. Primeiros passos\n",
        "\n"
      ]
    },
    {
      "cell_type": "markdown",
      "metadata": {
        "id": "htwzzN4nkXAs"
      },
      "source": [
        "Nessa aplicação do LSTM vamos utilizar as ferramentas disponíveis no `scipy`, `keras` do `tensorflow`, `scikit-learn`, `pandas`, `numpy` e `matplotlib`. Primeiramente vamos conhecer a base de dados e e definir os dados de treino e teste para ter uma base inicial de comparação."
      ]
    },
    {
      "cell_type": "markdown",
      "metadata": {
        "id": "EFKSfFp9lmW3"
      },
      "source": [
        "## 2.1. Base de Dados"
      ]
    },
    {
      "cell_type": "markdown",
      "metadata": {
        "id": "j3ca10BWnhjo"
      },
      "source": [
        "A base utilizada como exemplo registra a quantidade de vendas mensais de shampoo em um período de 3 anos criada por Makridakis, Wheelwright, and Hyndman (1998). Nesse caso, temos um total de 36 registros."
      ]
    },
    {
      "cell_type": "code",
      "metadata": {
        "colab": {
          "base_uri": "https://localhost:8080/"
        },
        "id": "bjFppqPFln26",
        "outputId": "3ce2e090-b9d0-4c29-f0a5-1a6bda47293c"
      },
      "source": [
        "import pandas as pd\n",
        "from datetime import datetime\n",
        "database_url = 'https://raw.githubusercontent.com/jbrownlee/Datasets/master/shampoo.csv'\n",
        "# Transforma os dados do período que estão no formato 1-01\n",
        "def parser(x):\n",
        "  # Define um padrão dos anos entre 1991 a 1993\n",
        "\treturn datetime.strptime('199'+x, '%Y-%m')\n",
        "\n",
        "series = pd.read_csv(database_url, parse_dates=['Month'], index_col='Month', squeeze=True, date_parser=parser)\n",
        "series.head()"
      ],
      "execution_count": 206,
      "outputs": [
        {
          "output_type": "execute_result",
          "data": {
            "text/plain": [
              "Month\n",
              "1991-01-01    266.0\n",
              "1991-02-01    145.9\n",
              "1991-03-01    183.1\n",
              "1991-04-01    119.3\n",
              "1991-05-01    180.3\n",
              "Name: Sales, dtype: float64"
            ]
          },
          "metadata": {
            "tags": []
          },
          "execution_count": 206
        }
      ]
    },
    {
      "cell_type": "markdown",
      "metadata": {
        "id": "HTZHuC83q3Yw"
      },
      "source": [
        "Com os dados carregados, podemos visualizar como é o comportamento da série temporal."
      ]
    },
    {
      "cell_type": "code",
      "metadata": {
        "colab": {
          "base_uri": "https://localhost:8080/",
          "height": 473
        },
        "id": "D4w3XLCBrGm-",
        "outputId": "786e88d7-a3b0-42ea-9be1-a4d443c68b57"
      },
      "source": [
        "import matplotlib.pyplot as plt\n",
        "plt.figure(figsize=(10,5), dpi=100)\n",
        "series.plot()\n",
        "plt.show()"
      ],
      "execution_count": 207,
      "outputs": [
        {
          "output_type": "display_data",
          "data": {
            "image/png": "[encoded data removed]",
            "text/plain": [
              "<Figure size 1000x500 with 1 Axes>"
            ]
          },
          "metadata": {
            "tags": [],
            "needs_background": "light"
          }
        }
      ]
    },
    {
      "cell_type": "markdown",
      "metadata": {
        "id": "hYNVCSE6loU-"
      },
      "source": [
        "## 2.2. Treino e Teste"
      ]
    },
    {
      "cell_type": "markdown",
      "metadata": {
        "id": "u3ZoG-MPr42W"
      },
      "source": [
        "Assim como o treinamento de qualquer outro modelo, vamos separar a base de dados em duas partes para aplicar o treinamento e os testes. Para as séries temporais, temos uma particularidade nessa etapa, na qual os dados dem ser separados em ordem cronológica, não podem ser aleatórios, por isso iremos definir os intervalos de cada parte."
      ]
    },
    {
      "cell_type": "code",
      "metadata": {
        "id": "n7n1wHjusakn"
      },
      "source": [
        "# Treino e teste\n",
        "X = series.values\n",
        "train, test = X[0:-12], X[-12:]"
      ],
      "execution_count": 208,
      "outputs": []
    },
    {
      "cell_type": "markdown",
      "metadata": {
        "id": "lKbH6gWgsncG"
      },
      "source": [
        "A base de treino contará com os dois primeiros anos, e o treino com o último ano. Os testes serão executados de forma sequencial, avançando em cada período da base de teste e predizendo o valor daquele momento. Em inglês, utiliza-se o nome *walk-forward model validation* para essa abordagem."
      ]
    },
    {
      "cell_type": "code",
      "metadata": {
        "colab": {
          "base_uri": "https://localhost:8080/"
        },
        "id": "GK8aaIT5vGGe",
        "outputId": "dd56f7c3-8ab3-4247-ff4a-06669e519f8f"
      },
      "source": [
        "# walk-forward model validation\n",
        "history = [x for x in train]\n",
        "predictions = list()\n",
        "for i in range(len(test)):\n",
        "  print(f\"Make prediction for test {i}\")"
      ],
      "execution_count": 209,
      "outputs": [
        {
          "output_type": "stream",
          "text": [
            "Make prediction for test 0\n",
            "Make prediction for test 1\n",
            "Make prediction for test 2\n",
            "Make prediction for test 3\n",
            "Make prediction for test 4\n",
            "Make prediction for test 5\n",
            "Make prediction for test 6\n",
            "Make prediction for test 7\n",
            "Make prediction for test 8\n",
            "Make prediction for test 9\n",
            "Make prediction for test 10\n",
            "Make prediction for test 11\n"
          ],
          "name": "stdout"
        }
      ]
    },
    {
      "cell_type": "markdown",
      "metadata": {
        "id": "2E_Psi09v91R"
      },
      "source": [
        "Para cada predição realizada para um mês da base de teste, o valor é incorporado ao histórico e disponibilizado para a predição do próximo período. Esse comportamento simula um cenário real, onde as observações da série temporal influenciam no comportamento de predição do próximo mês.\n",
        "\n",
        "Ao final das predições, os valores serão comparados com os dados reais da base e será calculada a raiz do erro médio quadrático (**RMSE - *Root Mean Squared Error***) para medir a habilidade do modelo."
      ]
    },
    {
      "cell_type": "markdown",
      "metadata": {
        "id": "EUqCOXKLlrA-"
      },
      "source": [
        "## 2.3. Base comparativa inicial"
      ]
    },
    {
      "cell_type": "markdown",
      "metadata": {
        "id": "-F-BRJvM1u0Y"
      },
      "source": [
        "A princípio, como não existem pistas de qual o melhor modelo a ser utilizado, normalmente são aplicados métodos de predição simplórios que não exigem muito esforço, assim conseguimos compreender o quanto avançamos com cada modelo.\n",
        "\n",
        "O modelo de predição adotado inicalmente será o chamado Modelo de Predição Persistente. Esse modelo é uma excelente opção para uma série temporal com tendência linear crescente. Nele utilizamos a observação do momento anterior para predizer o momento atual. O método de predição de forma simples, será assim: `yhat = history[-1]`. Vamos aplicá-lo à base de dados de exemplo utilizando a estrutura criada na seção anterior:"
      ]
    },
    {
      "cell_type": "code",
      "metadata": {
        "id": "scr3FpllaoST"
      },
      "source": [
        "for i in range(len(test)):\n",
        "\t# make prediction\n",
        "\tpredictions.append(history[-1])\n",
        "\t# observation\n",
        "\thistory.append(test[i])"
      ],
      "execution_count": 210,
      "outputs": []
    },
    {
      "cell_type": "markdown",
      "metadata": {
        "id": "Qpwd0AkZbxN6"
      },
      "source": [
        "Após realizar as predições persistentes vamos analisar os resultados utilizando o RMSE."
      ]
    },
    {
      "cell_type": "code",
      "metadata": {
        "colab": {
          "base_uri": "https://localhost:8080/",
          "height": 459
        },
        "id": "ZW_o4h3Rb7Zm",
        "outputId": "a464aae5-e422-439b-bc4c-eeb80d0093e1"
      },
      "source": [
        "from sklearn.metrics import mean_squared_error\n",
        "from math import sqrt\n",
        "\n",
        "# report performance\n",
        "rmse = sqrt(mean_squared_error(test, predictions))\n",
        "print('RMSE: %.3f' % rmse)\n",
        "\n",
        "# line plot of observed vs predicted\n",
        "plt.figure(figsize=(10,5), dpi=100)\n",
        "plt.plot(test, label='Test')\n",
        "plt.plot(predictions, label='Predictions')\n",
        "plt.xticks(range(len(test)+1))\n",
        "plt.legend()\n",
        "plt.show()"
      ],
      "execution_count": 211,
      "outputs": [
        {
          "output_type": "stream",
          "text": [
            "RMSE: 136.761\n"
          ],
          "name": "stdout"
        },
        {
          "output_type": "display_data",
          "data": {
            "image/png": "[encoded data removed]",
            "text/plain": [
              "<Figure size 1000x500 with 1 Axes>"
            ]
          },
          "metadata": {
            "tags": [],
            "needs_background": "light"
          }
        }
      ]
    },
    {
      "cell_type": "markdown",
      "metadata": {
        "id": "znNnkL1GlzpK"
      },
      "source": [
        "# 3. Aplicando o modelo LSTM"
      ]
    },
    {
      "cell_type": "markdown",
      "metadata": {
        "id": "NgaNvENadq4Y"
      },
      "source": [
        "Com uma base de comparação, já podemos aplicar o modelo mais elaborado. Para utilizar o LSTM, é preciso realizar alguns tratamentos para tornar os dados próprios para realizar o treinamento do modelo. Os detalhes serão apresentados a seguir."
      ]
    },
    {
      "cell_type": "markdown",
      "metadata": {
        "id": "isCx155dmIE2"
      },
      "source": [
        "## 3.1. Preparando os dados"
      ]
    },
    {
      "cell_type": "markdown",
      "metadata": {
        "id": "WXNugFfpgrHf"
      },
      "source": [
        "A preparação dos dados em uma série temporal tem como objetivo remover ou reduzir algumas propriedades e estados da distribuição que dificultam a etapa de treinamento a encontrar padrões e consequentemente a realizarem predições mais assertivas. Para a base de dados de exemplo, vamos realizar três etapas: \n",
        "- Transformar a série em um problema de Aprendizado Supervisionado\n",
        "- Transformar a série para um estado estacionário\n",
        "- Transformar as observações para uma escala específica."
      ]
    },
    {
      "cell_type": "markdown",
      "metadata": {
        "id": "i7yDb9LNiL7d"
      },
      "source": [
        "### 3.1.1. Série como Aprendizado Supervisionado"
      ]
    },
    {
      "cell_type": "markdown",
      "metadata": {
        "id": "vYVXJLwYiXwG"
      },
      "source": [
        "Como o modelo LSTM do Keras que vamos utilizar exige que os dados estejam dispostos no formato de um problema de aprendizado supervisionado, ou seja com entrada (X) e saída (y), podemos utilizar um método semelhante ao adotado anteriormente para criar a estrutura esperada. Vamos utilizar a função `shift` do pandas para aplicar o momento `t-1` como entrada e o momento atual `t` como a saída. Esse movimento é definido como um deslocamento na série temporal, em inglês nomeado *lag*."
      ]
    },
    {
      "cell_type": "code",
      "metadata": {
        "id": "W9HcBVZPjWnt"
      },
      "source": [
        "# frame a sequence as a supervised learning problem\n",
        "def timeseries_to_supervised(data, lag=1):\n",
        "\tdf = pd.DataFrame(data)\n",
        "\tcolumns = [df.shift(i) for i in range(1, lag+1)]\n",
        "\tcolumns.append(df)\n",
        "\tdf = pd.concat(columns, axis=1)\n",
        "\tdf.fillna(0, inplace=True)\n",
        "\treturn df"
      ],
      "execution_count": 212,
      "outputs": []
    },
    {
      "cell_type": "markdown",
      "metadata": {
        "id": "-qeabRKkmPOv"
      },
      "source": [
        "Com a função de transformação criada, vamos aplicá-la à base de dados e criar uma nova estrutura que será utilizada a partir desse ponto."
      ]
    },
    {
      "cell_type": "code",
      "metadata": {
        "colab": {
          "base_uri": "https://localhost:8080/"
        },
        "id": "M9dKCQisnbGk",
        "outputId": "4ec2d4e0-863b-4e72-ca0c-f279ba0966b7"
      },
      "source": [
        "supervised = timeseries_to_supervised(X, 1)\n",
        "print(supervised.head())"
      ],
      "execution_count": 213,
      "outputs": [
        {
          "output_type": "stream",
          "text": [
            "       0      0\n",
            "0    0.0  266.0\n",
            "1  266.0  145.9\n",
            "2  145.9  183.1\n",
            "3  183.1  119.3\n",
            "4  119.3  180.3\n"
          ],
          "name": "stdout"
        }
      ]
    },
    {
      "cell_type": "markdown",
      "metadata": {
        "id": "M0s3hiTJiXJ_"
      },
      "source": [
        "### 3.1.2. Série em estado estacionário"
      ]
    },
    {
      "cell_type": "markdown",
      "metadata": {
        "id": "FNW6Hzj3iYnj"
      },
      "source": [
        "Como pudemos ver no gráfico da série inicialmente, ela possui uma tendência de crescimento e naturalmente ela não é uma série estacionária pois a estrutura dos dados depende do tempo. Uma série pode ser transformada em estacionária removendo a tendência antes das predições e posteriormente adicionando-a novamente nos resultados obtidos, sem prejudicar o comportamento natural dos dados.\n",
        "\n",
        "Para remover a tendência, vamos aplicar o método de diferenciação, que consiste em subtrair os valores do momento `t-1` do momento `t` e obter uma série com as diferenças entre cada instante, sem a presença da tendência. Para chegar nesse resultado podemos utilizar a função `diff` do pandas ou criar uma função própria para fazer esse processo. Para exemplificar e tornar o processo inverso mais flexível, vamos criar uma função chamada `difference` para criar a série final."
      ]
    },
    {
      "cell_type": "code",
      "metadata": {
        "id": "Wi18pzSwrfSC"
      },
      "source": [
        "# create a differenced series\n",
        "def difference(dataset, interval=1):\n",
        "\tdiff = list()\n",
        "\tfor i in range(interval, len(dataset)):\n",
        "\t\tvalue = dataset[i] - dataset[i - interval]\n",
        "\t\tdiff.append(value)\n",
        "\treturn pd.Series(diff)"
      ],
      "execution_count": 214,
      "outputs": []
    },
    {
      "cell_type": "markdown",
      "metadata": {
        "id": "0nGk51rOr33N"
      },
      "source": [
        "Conforme mencionado anteriormente, vamos criar uma função inversa chamada `inverse_difference` para retomar as predições à sua escala original."
      ]
    },
    {
      "cell_type": "code",
      "metadata": {
        "id": "Kmrq2VJjsPQY"
      },
      "source": [
        "# invert differenced value\n",
        "def inverse_difference(history, yhat, interval=1):\n",
        "\treturn yhat + history[-interval]"
      ],
      "execution_count": 215,
      "outputs": []
    },
    {
      "cell_type": "markdown",
      "metadata": {
        "id": "swcWZRJWsTZH"
      },
      "source": [
        "Com as funções de transformação criadas, vamos aplicá-las à base de dados original e validar as duas etapas:"
      ]
    },
    {
      "cell_type": "code",
      "metadata": {
        "colab": {
          "base_uri": "https://localhost:8080/"
        },
        "id": "G9GiTnx2ss-v",
        "outputId": "dcc31768-fa23-4b38-879e-9f51d3cdfb32"
      },
      "source": [
        "print(f\"Original Series:\\n{series.head()}\\n\")\n",
        "# transform to be stationary\n",
        "differenced = difference(series, 1)\n",
        "print(f\"Differenced Series:\\n{differenced.head()}\\n\")\n",
        "\n",
        "# invert transform\n",
        "inverted = list()\n",
        "for i in range(len(differenced)):\n",
        "\tvalue = inverse_difference(series, differenced[i], len(series)-i)\n",
        "\tinverted.append(value)\n",
        "inverted = pd.Series(inverted)\n",
        "print(f\"Inverted Series:\\n{inverted.head()}\")"
      ],
      "execution_count": 216,
      "outputs": [
        {
          "output_type": "stream",
          "text": [
            "Original Series:\n",
            "Month\n",
            "1991-01-01    266.0\n",
            "1991-02-01    145.9\n",
            "1991-03-01    183.1\n",
            "1991-04-01    119.3\n",
            "1991-05-01    180.3\n",
            "Name: Sales, dtype: float64\n",
            "\n",
            "Differenced Series:\n",
            "0   -120.1\n",
            "1     37.2\n",
            "2    -63.8\n",
            "3     61.0\n",
            "4    -11.8\n",
            "dtype: float64\n",
            "\n",
            "Inverted Series:\n",
            "0    145.9\n",
            "1    183.1\n",
            "2    119.3\n",
            "3    180.3\n",
            "4    168.5\n",
            "dtype: float64\n"
          ],
          "name": "stdout"
        }
      ]
    },
    {
      "cell_type": "markdown",
      "metadata": {
        "id": "rYmJZKagtnGW"
      },
      "source": [
        "Pode-se notar que na operação inversa, o primeiro valor da série original não está presente, isso acontece pois ele também não está presente na série da diferenciação por não ter um valor prévio para calcular a diferença. Isso ocorre com os primeiros K valores determinados pelo número k de deslocamentos considerados na diferenciação."
      ]
    },
    {
      "cell_type": "markdown",
      "metadata": {
        "id": "AN8gmScbiZC6"
      },
      "source": [
        "### 3.1.3. Observações dentro da escala"
      ]
    },
    {
      "cell_type": "markdown",
      "metadata": {
        "id": "t1nBImQviwc6"
      },
      "source": [
        "Um dos princípios de todas as redes neurais é a sua função de ativação e assim como qualquer outra, o LSTM precisa que os dados estejam dentro da escala dessa função. Por padrão o LSTM utiliza a Tangente Hiperbólica (*tanh*) que varia entre -1 e 1. Por isso vamos aplicar essa escala nos dados da série.\n",
        "\n",
        "A escala é calculada encontrando os valores mínimo e máximo da série e aplicando nos dados de treinamento. Para isso podemos utilizar a classe `MinMaxScaler`."
      ]
    },
    {
      "cell_type": "code",
      "metadata": {
        "id": "4wvU6bBSxM9M"
      },
      "source": [
        "from sklearn.preprocessing import MinMaxScaler\n",
        "\n",
        "def scale(train, test):\n",
        "\t# fit scaler\n",
        "\tscaler = MinMaxScaler(feature_range=(-1, 1))\n",
        "\tscaler = scaler.fit(train)\n",
        "\t# transform train\n",
        "\ttrain = train.reshape(train.shape[0], train.shape[1])\n",
        "\ttrain_scaled = scaler.transform(train)\n",
        "\t# transform test\n",
        "\ttest = test.reshape(test.shape[0], test.shape[1])\n",
        "\ttest_scaled = scaler.transform(test)\n",
        "\treturn scaler, train_scaled, test_scaled"
      ],
      "execution_count": 217,
      "outputs": []
    },
    {
      "cell_type": "markdown",
      "metadata": {
        "id": "nmJe6IUSTKyE"
      },
      "source": [
        "Tendo a função definida, podemos verificar o resultado da transformação:"
      ]
    },
    {
      "cell_type": "code",
      "metadata": {
        "colab": {
          "base_uri": "https://localhost:8080/"
        },
        "id": "wFZBk2P7TSUF",
        "outputId": "0f0f3ce1-7ff2-4917-fe5e-2031535e906f"
      },
      "source": [
        "# Format input data\n",
        "X = series.values\n",
        "X = X.reshape(len(X), 1)\n",
        "\n",
        "# Aplly function and verify scaled data\n",
        "scaler, scaled_X, scaled_y = scale(X[0:-12], X[-12:])\n",
        "scaled_series = pd.Series(scaled_X[:, 0])\n",
        "print(scaled_series.head())"
      ],
      "execution_count": 218,
      "outputs": [
        {
          "output_type": "stream",
          "text": [
            "0   -0.029441\n",
            "1   -0.824016\n",
            "2   -0.577903\n",
            "3   -1.000000\n",
            "4   -0.596427\n",
            "dtype: float64\n"
          ],
          "name": "stdout"
        }
      ]
    },
    {
      "cell_type": "markdown",
      "metadata": {
        "id": "1jg2W4NrzWqK"
      },
      "source": [
        "Assim como a transformação para remover a tendência, vamos precisar do processo inverso para retomar com as predições para a escala original. A seguir podemos confirmar que as duas operações ocorreram normalmente e temos novamente a escala original. Primeiramente vamos criar uma função que realiza a operação inversa:"
      ]
    },
    {
      "cell_type": "code",
      "metadata": {
        "id": "KwSCyBF_UBkX"
      },
      "source": [
        "import numpy as np\n",
        "import warnings\n",
        "warnings.filterwarnings('ignore')\n",
        "\n",
        "# inverse scaling for a forecasted value\n",
        "def invert_scale(scaler, X, value):\n",
        "\tnew_row = [x for x in X] + [value]\n",
        "\tarray = np.array(new_row)\n",
        "\tarray = array.reshape(1, len(array))\n",
        "\tinverted = scaler.inverse_transform(array)\n",
        "\treturn inverted[0, -1]"
      ],
      "execution_count": 219,
      "outputs": []
    },
    {
      "cell_type": "markdown",
      "metadata": {
        "id": "kP2eupMTenTy"
      },
      "source": [
        "Com a função criada, podemos testá-la revertendo a escala que foi criada na base de treino. Como essa função será utilizada para reverter a escala dos valores preditos, o parâmetro value será utilizado com o valor escalado (`scaled_X`) da base de treino (`X`)."
      ]
    },
    {
      "cell_type": "code",
      "metadata": {
        "colab": {
          "base_uri": "https://localhost:8080/"
        },
        "id": "ObuaK9jl1xXH",
        "outputId": "2f302851-27f3-4ca2-8053-5f332c52dbf7"
      },
      "source": [
        "# Validating inverted scale\n",
        "inverted_series = list()\n",
        "for i in range(len(scaled_X)):\n",
        "  inverted_X = invert_scale(scaler, X[i], scaled_X[i])\n",
        "  inverted_series.append(inverted_X)\n",
        "inverted_series = pd.Series(inverted_series)\n",
        "print(inverted_series.head())"
      ],
      "execution_count": 220,
      "outputs": [
        {
          "output_type": "stream",
          "text": [
            "0    266.0\n",
            "1    145.9\n",
            "2    183.1\n",
            "3    119.3\n",
            "4    180.3\n",
            "dtype: float64\n"
          ],
          "name": "stdout"
        }
      ]
    },
    {
      "cell_type": "markdown",
      "metadata": {
        "id": "m7wx-PwDO_fz"
      },
      "source": [
        "### 3.1.4. Aplicando todas as transformações"
      ]
    },
    {
      "cell_type": "markdown",
      "metadata": {
        "id": "yo5AFTAbPMuY"
      },
      "source": [
        "Nas etapas antetiores aplicamos cada transformação individualmente, mas para construir o modelo final, precisamos realizar todas as etapas em conjunto. Para isso vamos aplicálas e preparar a estrutura que será utilizada na próxima seção."
      ]
    },
    {
      "cell_type": "code",
      "metadata": {
        "id": "memVJYH6Tx_3"
      },
      "source": [
        "# transform data to be stationary\n",
        "raw_values = series.values\n",
        "diff_values = difference(raw_values, 1)\n",
        " \n",
        "# transform data to be supervised learning\n",
        "supervised = timeseries_to_supervised(diff_values, 1)\n",
        "supervised_values = supervised.values\n",
        " \n",
        "# split data into train and test-sets\n",
        "train, test = supervised_values[0:-12], supervised_values[-12:]\n",
        " \n",
        "# transform the scale of the data\n",
        "scaler, train_scaled, test_scaled = scale(train, test)"
      ],
      "execution_count": 221,
      "outputs": []
    },
    {
      "cell_type": "markdown",
      "metadata": {
        "id": "0U7N1aBjmNkg"
      },
      "source": [
        "## 3.2. Criando o modelo"
      ]
    },
    {
      "cell_type": "markdown",
      "metadata": {
        "id": "9kjFopJj3eP-"
      },
      "source": [
        "### 3.2.1. Características do LSTM"
      ]
    },
    {
      "cell_type": "markdown",
      "metadata": {
        "id": "xv0LtZi33nc3"
      },
      "source": [
        "O LSTM é um tipo de rede neural recorrente (RNN), ou seja, pode aprender e lembrar sequências longas de informações e não precisa que uma determinada janela de tempo seja definida. No Keras, essa característica é representada pelo parâmetro `stateful` que deve ser definido como `True` ao se definir uma camada LSTM.\n",
        "\n",
        "O comportamento padrão da camada LSTM no Keras é manter o estado entre os dados dentro de um lote, definido por um número fixo de linhas da base de treinamento que define quantos padrões serão processados antes de atualizar os pesos da rede neural. Por padrão, o estado entre os lotes na camada LSTM é reiniciado, porém o parâmetro `stateful` nos dá o controle necessário para definir quando o estado da camada LSTM será reiniciado, chamando a função `reset_states`.\n",
        "\n",
        "A camada LSTM espera receber uma matriz com três dimensões `[Samples, Time Steps, Features]`:\n",
        "- Samples: observaçõees independentes do domínio, normalmente linhas de dados complementares.\n",
        "- Time steps: são os indicadores de tempo daos uma variável para uma observação específica.\n",
        "- Features: outras medidas registradas nos mesmos momentos da observação principal.\n",
        "\n",
        "Para o exemplo, vamos manter a distribuição dos dados simples considerando cada instante de tempo como na sequencia original, sendo com uma amostra (*Sample*), um momento (*Time Step*) e uma característica (*Feature*). Considerando que os dados de treino possuem X entradas e y saídas, a formatação os dados como esperado pelo Keras ficaria assim:\n",
        "\n",
        "```\n",
        "X, y = train[:, 0:-1], train[:, -1]\n",
        "X = X.reshape(X.shape[0], 1, X.shape[1])\n",
        "```"
      ]
    },
    {
      "cell_type": "markdown",
      "metadata": {
        "id": "p3x49aoj62t2"
      },
      "source": [
        "O formato de entrada dos dados no LSTM é definido pelo parâmetro `batch_input_shape` como uma tupla que define o número esperado de observações de cada lote, número de momentos e o número de caracterísrticas. O tamanho do lote normalmente é muito menor que a quantidade total de amostras e em conjunto com o número de épocas, define a velocidade com que a rede aprende sobre os dados, ou seja, a frequência em que os pesos são atualizados.\n",
        "\n",
        "Por fim, definimo o número de neurõnios, também conhecidos como o número de unidades de memória ou blocos. Para o exemplo, algo em torno de 1 a 5 neurônios será suficiente. Para se criar uma camada única do LSTM, utilizamos o código como apresentado a seguir:\n",
        "\n",
        "```\n",
        "layer = LSTM(neurons, batch_input_shape=(batch_size, X.shape[1], X.shape[2]), stateful=True)\n",
        "```"
      ]
    },
    {
      "cell_type": "markdown",
      "metadata": {
        "id": "GicZkD1y3kSL"
      },
      "source": [
        "### 3.2.2. Compilando o modelo"
      ]
    },
    {
      "cell_type": "markdown",
      "metadata": {
        "id": "lNnqoTTCL31Y"
      },
      "source": [
        "Assim que o modelo estiver criado, precisamos utilizar uma biblioteca matemática para compilar a rede neural em uma representação simbólica eficiente. Para isso podemos utlizar o Tensorflow ou Theano. Antes de iniciar a compilação, precisamos definir a funçãode perda e o algoritmo de otimização que serão utilizados no processo. Para o exemplo vamos utilizar, respectivamente, a MSE (*Mean Squared Error*) e o ADAM. A etapa de compilação ficaria assim:\n",
        "\n",
        "```\n",
        "model = Sequential()\n",
        "model.add(LSTM(neurons, batch_input_shape=(batch_size, X.shape[1], X.shape[2]), stateful=True))\n",
        "model.add(Dense(1))\n",
        "model.compile(loss='mean_squared_error', optimizer='adam')\n",
        "```"
      ]
    },
    {
      "cell_type": "markdown",
      "metadata": {
        "id": "0SfcBUQYfwj-"
      },
      "source": [
        "### 3.2.3. Treinando o modelo"
      ]
    },
    {
      "cell_type": "markdown",
      "metadata": {
        "id": "qUQ86UVNgkh1"
      },
      "source": [
        "Depois que o modelo está compilado, podemos iniciar a etapa de treinamento. Como definimos o modelo como `stateful`, precisamos controlar o treinamento uma época de cada vez até completar a quantidade desejada de épocas. O fim do treinamento de uma época define quando o estado interno será reiniciado.\n",
        "\n",
        "Normalmente as amostras dentro de uma época são misturadas aleatoriamente, porém, por se tratar de uma série temporal, precisamos que a rede aprenda os padrões de acordo com a sequência original das observações. Sendo assim, vamos utilizar o parâmetro `shuffle` como `False`, assim como o parâmetro `verbose` = 0 para evitar relatórios desnecessários nesse momento. A etapa de treinamento ficará assim:\n",
        "\n",
        "```\n",
        "for i in range(nb_epoch):\n",
        "\tmodel.fit(X, y, epochs=1, batch_size=batch_size, verbose=0, shuffle=False)\n",
        "\tmodel.reset_states()\n",
        "```"
      ]
    },
    {
      "cell_type": "markdown",
      "metadata": {
        "id": "_6acCTfTf0NW"
      },
      "source": [
        "### 3.2.4. Aplicando todas as etapas de criação"
      ]
    },
    {
      "cell_type": "markdown",
      "metadata": {
        "id": "tXZ00w0wf6I1"
      },
      "source": [
        "Para simplificar o processo, vamos unificar todas as etapas de criação em uma única função, criando o modelo, compilando e treinando, resultando em um modelo pronto para realizar predições na série temporal. A função está declarada a seguir:"
      ]
    },
    {
      "cell_type": "code",
      "metadata": {
        "id": "bu3OUS_jf6oU"
      },
      "source": [
        "from keras import models, layers\n",
        "\n",
        "# Create an LSTM network and fit to training data\n",
        "def fit_lstm(train, batch_size, nb_epoch, neurons):\n",
        "\tX, y = train[:, 0:-1], train[:, -1]\n",
        "\tX = X.reshape(X.shape[0], 1, X.shape[1])\n",
        "\tmodel = models.Sequential()\n",
        "\tmodel.add(layers.LSTM(neurons, batch_input_shape=(batch_size, X.shape[1], X.shape[2]), stateful=True))\n",
        "\tmodel.add(layers.Dense(1))\n",
        "\tmodel.compile(loss='mean_squared_error', optimizer='adam')\n",
        "\tfor i in range(nb_epoch):\n",
        "\t\tmodel.fit(X, y, epochs=1, batch_size=batch_size, verbose=0, shuffle=False)\n",
        "\t\tmodel.reset_states()\n",
        "\treturn model"
      ],
      "execution_count": 222,
      "outputs": []
    },
    {
      "cell_type": "markdown",
      "metadata": {
        "id": "BbFuiPMdkGfC"
      },
      "source": [
        "Com as funções de criação e treinamento em mãos, vamos criar o modelo que será utilizado na próxima seção, utilizando como parâmetros:\n",
        "- batch_size = 1 \n",
        "- nb_epoch = 1500\n",
        "- neurons = 1"
      ]
    },
    {
      "cell_type": "code",
      "metadata": {
        "id": "uZQ2zG2rkKOt"
      },
      "source": [
        "# fit the model\n",
        "lstm_model = fit_lstm(train_scaled, 1, 3000, 4)"
      ],
      "execution_count": 223,
      "outputs": []
    },
    {
      "cell_type": "markdown",
      "metadata": {
        "id": "UHvxRtKOmQaK"
      },
      "source": [
        "## 3.3. Realizando as predições"
      ]
    },
    {
      "cell_type": "markdown",
      "metadata": {
        "id": "teE5xpsqjyHY"
      },
      "source": [
        "Com o modelo treinado, já podemos iniciar o processo de predição. Uma vez que temos uma base de teste com os 12 meses do último ano, podemos utilizar duas abordagens de validação do modelo. \n",
        "\n",
        "A primeira opção é de realizar todas as previsões de vez, ou seja, as previsões iniciais não atualizam o modelo, nem interferem nas próximas predições à medida que avançamos nos períodos de teste. \n",
        "\n",
        "A segunda opção consiste em retreinar o modelo à medida que vamos avançando nas predições, incorporando o valor predito como parte da base de dados de treinamento utilizada anteriormente, ou seja, os valores preditos refinam as próximas predições com a expectativa de gerar predições de acordo com a evolução natural dos dados.\n",
        "\n",
        "Para exemplificar, vamos utilizar a primeira opção, criando uma função que realiza a predição de um único momento:\n",
        "\n"
      ]
    },
    {
      "cell_type": "code",
      "metadata": {
        "id": "WY7Ix2ZEmY3W"
      },
      "source": [
        "# make a one-step forecast\n",
        "def forecast_lstm(model, batch_size, X):\n",
        "\tX = X.reshape(1, 1, len(X))\n",
        "\tyhat = model.predict(X, batch_size=batch_size)\n",
        "\treturn yhat[0,0]  "
      ],
      "execution_count": 224,
      "outputs": []
    },
    {
      "cell_type": "markdown",
      "metadata": {
        "id": "TeisY3BxoMRz"
      },
      "source": [
        "A função `predict` do modelo retorna uma lista de predições para cada entrada. Como estamos realizando a predição de uma etapa por vez, teremos apenas uma previsão de acordo com a observação do momento anterior. Durante o treinamento, o estado interno é reiniciado à medida que cada época é finalizada, porém durante a predição da série temporal, precisamos manter um estado consistente entre as predições de cada momento, de preferência, atualizando esse estado conforme avançamos nos momentos da base de testes.\n",
        "\n",
        "Para definir o estado inicial vamos inicializar o estado da rede criando uma predição em todas as amostras da base de treino. Isso irá garantir que poderemos realizar a predição do próximo momento.\n",
        "\n"
      ]
    },
    {
      "cell_type": "code",
      "metadata": {
        "colab": {
          "base_uri": "https://localhost:8080/"
        },
        "id": "acCMYdEktEF3",
        "outputId": "9041f8fd-2d56-4f02-e0e6-a0a001c561e2"
      },
      "source": [
        "# forecast the entire training dataset to build up state for forecasting\n",
        "train_reshaped = train_scaled[:, 0].reshape(len(train_scaled), 1, 1)\n",
        "lstm_model.predict(train_reshaped, batch_size=1)"
      ],
      "execution_count": 225,
      "outputs": [
        {
          "output_type": "execute_result",
          "data": {
            "text/plain": [
              "array([[-0.7080187 ],\n",
              "       [ 0.09284279],\n",
              "       [-0.5293984 ],\n",
              "       [ 0.19377765],\n",
              "       [-0.23164207],\n",
              "       [ 0.16332981],\n",
              "       [-0.23581658],\n",
              "       [ 0.15722254],\n",
              "       [ 0.03472343],\n",
              "       [ 0.53044164],\n",
              "       [-0.8674432 ],\n",
              "       [-0.00590324],\n",
              "       [-0.33606476],\n",
              "       [ 0.30489448],\n",
              "       [-0.18608075],\n",
              "       [-0.46067876],\n",
              "       [ 0.19999674],\n",
              "       [-0.59144795],\n",
              "       [ 0.32737705],\n",
              "       [-0.21619035],\n",
              "       [ 0.02456108],\n",
              "       [-0.8725623 ],\n",
              "       [ 0.24011096]], dtype=float32)"
            ]
          },
          "metadata": {
            "tags": []
          },
          "execution_count": 225
        }
      ]
    },
    {
      "cell_type": "markdown",
      "metadata": {
        "id": "uHyOst7rtfFO"
      },
      "source": [
        "Com esse estado interno criado previamente, podemos iniciar as predições na base de testes, avançando em um momento por vez, até o fim do último ano:"
      ]
    },
    {
      "cell_type": "code",
      "metadata": {
        "colab": {
          "base_uri": "https://localhost:8080/"
        },
        "id": "7rZMEhIHpq4L",
        "outputId": "57788dd4-3e69-4e76-936a-fd224b019171"
      },
      "source": [
        "# walk-forward validation on the test data\n",
        "predictions = list()\n",
        "for i in range(len(test_scaled)):\n",
        "\t# make one-step forecast\n",
        "\tX, y = test_scaled[i, 0:-1], test_scaled[i, -1]\n",
        "\tyhat = forecast_lstm(lstm_model, 1, X)\n",
        "\t# invert scaling\n",
        "\tyhat = invert_scale(scaler, X, yhat)\n",
        "\t# invert differencing\n",
        "\tyhat = inverse_difference(raw_values, yhat, len(test_scaled)+1-i)\n",
        "\t# store forecast\n",
        "\tpredictions.append(yhat)\n",
        "\texpected = raw_values[len(train) + i + 1]\n",
        "\tprint('Month=%d, Predicted=%f, Expected=%f' % (i+1, yhat, expected))"
      ],
      "execution_count": 226,
      "outputs": [
        {
          "output_type": "stream",
          "text": [
            "Month=1, Predicted=313.928293, Expected=339.700000\n",
            "Month=2, Predicted=365.666447, Expected=440.400000\n",
            "Month=3, Predicted=329.665075, Expected=315.900000\n",
            "Month=4, Predicted=416.169281, Expected=439.300000\n",
            "Month=5, Predicted=432.522027, Expected=401.300000\n",
            "Month=6, Predicted=444.150712, Expected=437.400000\n",
            "Month=7, Predicted=396.574827, Expected=575.500000\n",
            "Month=8, Predicted=403.282696, Expected=407.600000\n",
            "Month=9, Predicted=513.146810, Expected=682.000000\n",
            "Month=10, Predicted=529.061765, Expected=475.300000\n",
            "Month=11, Predicted=369.121674, Expected=581.300000\n",
            "Month=12, Predicted=359.693661, Expected=646.900000\n"
          ],
          "name": "stdout"
        }
      ]
    },
    {
      "cell_type": "markdown",
      "metadata": {
        "id": "R3X4DVfFuN2T"
      },
      "source": [
        "Após realizar as predições, podemos avaliar o resultado e compará-lo com nossa base inicial:"
      ]
    },
    {
      "cell_type": "code",
      "metadata": {
        "colab": {
          "base_uri": "https://localhost:8080/",
          "height": 286
        },
        "id": "yVqUvWQjuVSb",
        "outputId": "2f0003cb-e1a6-4fc8-ce8a-be7848f6cc06"
      },
      "source": [
        "# report performance\n",
        "rmse = sqrt(mean_squared_error(raw_values[-12:], predictions))\n",
        "print('Test RMSE: %.3f' % rmse)\n",
        "# line plot of observed vs predicted\n",
        "plt.plot(raw_values[-12:])\n",
        "plt.plot(predictions)\n",
        "plt.show()\n"
      ],
      "execution_count": 227,
      "outputs": [
        {
          "output_type": "stream",
          "text": [
            "Test RMSE: 128.756\n"
          ],
          "name": "stdout"
        },
        {
          "output_type": "display_data",
          "data": {
            "image/png": "[encoded data removed]",
            "text/plain": [
              "<Figure size 432x288 with 1 Axes>"
            ]
          },
          "metadata": {
            "tags": [],
            "needs_background": "light"
          }
        }
      ]
    },
    {
      "cell_type": "markdown",
      "metadata": {
        "id": "yx-qzJP8zA5p"
      },
      "source": [
        "O modelo criado chegou a um resultado um pouco melhor que a base inicial, com um RMSE de 128 contra 136. Para os exemplos, alguns métodos que poderiam aperfeiçoar ainda mais o modelo, não foram utilizados para manter as explicações mais simples. Para alcançar um modelo mais robusto, é preciso realizar uma otimização dos parâmetros, retreinar o modelo à medida que avançamos nas predições, e executar uma série de predições para avaliar a estabilidade do modelo, conhecendo assim o seu desempenho mais realista."
      ]
    },
    {
      "cell_type": "code",
      "metadata": {
        "id": "M4g_R3Ag0BdS"
      },
      "source": [
        ""
      ],
      "execution_count": null,
      "outputs": []
    }
  ]
}