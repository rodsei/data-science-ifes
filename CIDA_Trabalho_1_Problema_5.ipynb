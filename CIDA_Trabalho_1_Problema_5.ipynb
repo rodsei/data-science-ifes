{
  "nbformat": 4,
  "nbformat_minor": 0,
  "metadata": {
    "colab": {
      "name": "CIDA - Trabalho 1 - Problema 5.ipynb",
      "provenance": [],
      "collapsed_sections": [],
      "authorship_tag": "ABX9TyNpoIQBTh4nNEx79myJV5c6",
      "include_colab_link": true
    },
    "kernelspec": {
      "name": "python3",
      "display_name": "Python 3"
    },
    "language_info": {
      "name": "python"
    }
  },
  "cells": [
    {
      "cell_type": "markdown",
      "metadata": {
        "id": "view-in-github",
        "colab_type": "text"
      },
      "source": [
        "<a href=\"https://colab.research.google.com/github/rodsei/data-science-ifes/blob/main/CIDA_Trabalho_1_Problema_5.ipynb\" target=\"_parent\"><img src=\"https://colab.research.google.com/assets/colab-badge.svg\" alt=\"Open In Colab\"/></a>"
      ]
    },
    {
      "cell_type": "markdown",
      "metadata": {
        "id": "WxueRfr8W0qS"
      },
      "source": [
        "# Previsão em Séries Temporais multivariadas com LSTM (Long Short-Term Memory) no Keras\n",
        "\n",
        "---"
      ]
    },
    {
      "cell_type": "markdown",
      "metadata": {
        "id": "-xEu3ZqMe6AF"
      },
      "source": [
        "### Conteúdo"
      ]
    },
    {
      "cell_type": "markdown",
      "metadata": {
        "id": "SfdXsv3Ee9IU"
      },
      "source": [
        "1. [Introdução](https://colab.research.google.com/drive/1GzBZEsKzXPYComUD2feOprKexglmQe3r#scrollTo=vLQXQ8pJ3dAD)\n",
        "2. [Preparando um modelo LSTM multivarido](https://colab.research.google.com/drive/1bUTkj1qXGxhhByezJf0djTNH0AKueCx8#scrollTo=gv9CyP-HxIRi&line=1&uniqifier=1)\n",
        "3. [Treinando com Múltiplos momentos anteriores](https://colab.research.google.com/drive/1bUTkj1qXGxhhByezJf0djTNH0AKueCx8#scrollTo=9EPbKKl5Y-SC)"
      ]
    },
    {
      "cell_type": "markdown",
      "metadata": {
        "id": "mcaBs67qeMnj"
      },
      "source": [
        "### Referência"
      ]
    },
    {
      "cell_type": "markdown",
      "metadata": {
        "id": "cvBZNaC8ePIk"
      },
      "source": [
        "Jason Brownlee. Multivariate Time Series Forecasting with LSTMs in Keras. en-US. Ago. de 2017. url: https://machinelearningmastery.com/multivariate-time-series-forecasting- lstms-keras/ (acesso em 16/08/2021)."
      ]
    },
    {
      "cell_type": "markdown",
      "metadata": {
        "id": "vLQXQ8pJ3dAD"
      },
      "source": [
        "# 1. Introdução"
      ]
    },
    {
      "cell_type": "markdown",
      "metadata": {
        "id": "5cvqNWqBtkSx"
      },
      "source": [
        "As redees neurais LSTM são capazes de modelar problemas com várias entradas de forma exemplar, o que o torna muito vantajoso frente à vários outros modelos, uma vez que modelos lineares têm dificuldades de de adaptar a um problema de predição multivariado ou com várias entradas.\n"
      ]
    },
    {
      "cell_type": "markdown",
      "metadata": {
        "id": "NPI-FBNImj-B"
      },
      "source": [
        "## 1.1. Base de dados"
      ]
    },
    {
      "cell_type": "markdown",
      "metadata": {
        "id": "y_1v0KNPnOha"
      },
      "source": [
        "A base de dados utilizada para o exemplo será sobre a Qualidade do Ar de Beijing que mede o clima e o nível de poluição. Os dados são registrados a cada hora e foram coletados durante cinco anos na embaixada dos Estados Unidos em Beijing, China."
      ]
    },
    {
      "cell_type": "code",
      "metadata": {
        "colab": {
          "base_uri": "https://localhost:8080/"
        },
        "id": "tRQajTDgn_Mk",
        "outputId": "088a0b13-197e-4e44-d930-460034f8a0fe"
      },
      "source": [
        "!wget 'https://raw.githubusercontent.com/jbrownlee/Datasets/master/pollution.csv'"
      ],
      "execution_count": 1,
      "outputs": [
        {
          "output_type": "stream",
          "text": [
            "--2021-08-18 00:27:19--  https://raw.githubusercontent.com/jbrownlee/Datasets/master/pollution.csv\n",
            "Resolving raw.githubusercontent.com (raw.githubusercontent.com)... 185.199.108.133, 185.199.109.133, 185.199.110.133, ...\n",
            "Connecting to raw.githubusercontent.com (raw.githubusercontent.com)|185.199.108.133|:443... connected.\n",
            "HTTP request sent, awaiting response... 200 OK\n",
            "Length: 2010492 (1.9M) [text/plain]\n",
            "Saving to: ‘pollution.csv.3’\n",
            "\n",
            "\rpollution.csv.3       0%[                    ]       0  --.-KB/s               \rpollution.csv.3     100%[===================>]   1.92M  --.-KB/s    in 0.01s   \n",
            "\n",
            "2021-08-18 00:27:20 (145 MB/s) - ‘pollution.csv.3’ saved [2010492/2010492]\n",
            "\n"
          ],
          "name": "stdout"
        }
      ]
    },
    {
      "cell_type": "code",
      "metadata": {
        "colab": {
          "base_uri": "https://localhost:8080/"
        },
        "id": "1ulquC-7oPKP",
        "outputId": "afd2273e-2203-4e77-f035-b08f60911af9"
      },
      "source": [
        "!head -n 6 pollution.csv"
      ],
      "execution_count": 2,
      "outputs": [
        {
          "output_type": "stream",
          "text": [
            "No,year,month,day,hour,pm2.5,DEWP,TEMP,PRES,cbwd,Iws,Is,Ir\r\n",
            "1,2010,1,1,0,NA,-21,-11,1021,NW,1.79,0,0\r\n",
            "2,2010,1,1,1,NA,-21,-12,1020,NW,4.92,0,0\r\n",
            "3,2010,1,1,2,NA,-21,-11,1019,NW,6.71,0,0\r\n",
            "4,2010,1,1,3,NA,-21,-14,1019,NW,9.84,0,0\r\n",
            "5,2010,1,1,4,NA,-20,-12,1018,NW,12.97,0,0\r\n"
          ],
          "name": "stdout"
        }
      ]
    },
    {
      "cell_type": "markdown",
      "metadata": {
        "id": "-TCtpfdsoWVG"
      },
      "source": [
        "As colunas de referentes ao momento de coleta estão definidas em colunas separadas, identificano o ano, mês, dia e hora. Já a poluição é representada pela coluna pm2.5, que indica sua concentração e os demais campos são referentes ao clima, contendo nessa ordem o ponto de condensação, temperatura, pressão, direção e velocidades do vento e o total acumulado de horas com neve e chuva.\n",
        "\n",
        "Para obter os dados e preparar a base de dados para utilização, definimos uma função que irá consolidar os campos de data em uma única coluna com o formato desejado. Esse novo campo unificado será utilizado com o Pandas como o índice da série temporal, indicando o `index_col` diretamente para o índice 0, uma vez que a nova coluna unificada não está nomeada."
      ]
    },
    {
      "cell_type": "code",
      "metadata": {
        "id": "h7opr5wCmly4"
      },
      "source": [
        "import pandas as pd\n",
        "from datetime import datetime\n",
        "# load data\n",
        "data_url = 'https://raw.githubusercontent.com/jbrownlee/Datasets/master/pollution.csv'\n",
        "def parse(x):\n",
        "\treturn datetime.strptime(x, '%Y %m %d %H')\n",
        " \n",
        "dataset = pd.read_csv(data_url, parse_dates = [['year', 'month', 'day', 'hour']], \n",
        "                   index_col=0, date_parser=parse)"
      ],
      "execution_count": 3,
      "outputs": []
    },
    {
      "cell_type": "code",
      "metadata": {
        "colab": {
          "base_uri": "https://localhost:8080/",
          "height": 235
        },
        "id": "QHZtUNb0nJLy",
        "outputId": "e390a45d-a347-4f33-9ba2-c8c6e6a93adb"
      },
      "source": [
        "dataset.head()"
      ],
      "execution_count": 4,
      "outputs": [
        {
          "output_type": "execute_result",
          "data": {
            "text/html": [
              "<div>\n",
              "<style scoped>\n",
              "    .dataframe tbody tr th:only-of-type {\n",
              "        vertical-align: middle;\n",
              "    }\n",
              "\n",
              "    .dataframe tbody tr th {\n",
              "        vertical-align: top;\n",
              "    }\n",
              "\n",
              "    .dataframe thead th {\n",
              "        text-align: right;\n",
              "    }\n",
              "</style>\n",
              "<table border=\"1\" class=\"dataframe\">\n",
              "  <thead>\n",
              "    <tr style=\"text-align: right;\">\n",
              "      <th></th>\n",
              "      <th>No</th>\n",
              "      <th>pm2.5</th>\n",
              "      <th>DEWP</th>\n",
              "      <th>TEMP</th>\n",
              "      <th>PRES</th>\n",
              "      <th>cbwd</th>\n",
              "      <th>Iws</th>\n",
              "      <th>Is</th>\n",
              "      <th>Ir</th>\n",
              "    </tr>\n",
              "    <tr>\n",
              "      <th>year_month_day_hour</th>\n",
              "      <th></th>\n",
              "      <th></th>\n",
              "      <th></th>\n",
              "      <th></th>\n",
              "      <th></th>\n",
              "      <th></th>\n",
              "      <th></th>\n",
              "      <th></th>\n",
              "      <th></th>\n",
              "    </tr>\n",
              "  </thead>\n",
              "  <tbody>\n",
              "    <tr>\n",
              "      <th>2010-01-01 00:00:00</th>\n",
              "      <td>1</td>\n",
              "      <td>NaN</td>\n",
              "      <td>-21</td>\n",
              "      <td>-11.0</td>\n",
              "      <td>1021.0</td>\n",
              "      <td>NW</td>\n",
              "      <td>1.79</td>\n",
              "      <td>0</td>\n",
              "      <td>0</td>\n",
              "    </tr>\n",
              "    <tr>\n",
              "      <th>2010-01-01 01:00:00</th>\n",
              "      <td>2</td>\n",
              "      <td>NaN</td>\n",
              "      <td>-21</td>\n",
              "      <td>-12.0</td>\n",
              "      <td>1020.0</td>\n",
              "      <td>NW</td>\n",
              "      <td>4.92</td>\n",
              "      <td>0</td>\n",
              "      <td>0</td>\n",
              "    </tr>\n",
              "    <tr>\n",
              "      <th>2010-01-01 02:00:00</th>\n",
              "      <td>3</td>\n",
              "      <td>NaN</td>\n",
              "      <td>-21</td>\n",
              "      <td>-11.0</td>\n",
              "      <td>1019.0</td>\n",
              "      <td>NW</td>\n",
              "      <td>6.71</td>\n",
              "      <td>0</td>\n",
              "      <td>0</td>\n",
              "    </tr>\n",
              "    <tr>\n",
              "      <th>2010-01-01 03:00:00</th>\n",
              "      <td>4</td>\n",
              "      <td>NaN</td>\n",
              "      <td>-21</td>\n",
              "      <td>-14.0</td>\n",
              "      <td>1019.0</td>\n",
              "      <td>NW</td>\n",
              "      <td>9.84</td>\n",
              "      <td>0</td>\n",
              "      <td>0</td>\n",
              "    </tr>\n",
              "    <tr>\n",
              "      <th>2010-01-01 04:00:00</th>\n",
              "      <td>5</td>\n",
              "      <td>NaN</td>\n",
              "      <td>-20</td>\n",
              "      <td>-12.0</td>\n",
              "      <td>1018.0</td>\n",
              "      <td>NW</td>\n",
              "      <td>12.97</td>\n",
              "      <td>0</td>\n",
              "      <td>0</td>\n",
              "    </tr>\n",
              "  </tbody>\n",
              "</table>\n",
              "</div>"
            ],
            "text/plain": [
              "                     No  pm2.5  DEWP  TEMP    PRES cbwd    Iws  Is  Ir\n",
              "year_month_day_hour                                                   \n",
              "2010-01-01 00:00:00   1    NaN   -21 -11.0  1021.0   NW   1.79   0   0\n",
              "2010-01-01 01:00:00   2    NaN   -21 -12.0  1020.0   NW   4.92   0   0\n",
              "2010-01-01 02:00:00   3    NaN   -21 -11.0  1019.0   NW   6.71   0   0\n",
              "2010-01-01 03:00:00   4    NaN   -21 -14.0  1019.0   NW   9.84   0   0\n",
              "2010-01-01 04:00:00   5    NaN   -20 -12.0  1018.0   NW  12.97   0   0"
            ]
          },
          "metadata": {
            "tags": []
          },
          "execution_count": 4
        }
      ]
    },
    {
      "cell_type": "markdown",
      "metadata": {
        "id": "Tnz5bYJRrSGB"
      },
      "source": [
        "Podemos visualizar alguns pontos a serem tratados logo de início antes de iniciar a construção do modelo. Vamos remover os valores nulos e as colunas que não nos interessa e por conveniência, renomear as colunas e índice da base."
      ]
    },
    {
      "cell_type": "code",
      "metadata": {
        "id": "A_JNVApdnZG2"
      },
      "source": [
        "# Removendo o número de identificação da coleta de dados\n",
        "dataset.drop('No', axis=1, inplace=True)\n",
        "# Definindo os nomes das colunas e índice\n",
        "dataset.columns = ['pollution', 'dew', 'temp', 'press', 'wnd_dir', 'wnd_spd', 'snow', 'rain']\n",
        "dataset.index.name = 'date'"
      ],
      "execution_count": 5,
      "outputs": []
    },
    {
      "cell_type": "markdown",
      "metadata": {
        "id": "EIILqZ9jt8R_"
      },
      "source": [
        "As primeiras 24 horas estão sem valores de poluição registrados. Para não influenciar o modelo, vamos tratar esses registros, transformando os valores nulos em 0 e removendo as primeiras 24 horas."
      ]
    },
    {
      "cell_type": "code",
      "metadata": {
        "colab": {
          "base_uri": "https://localhost:8080/"
        },
        "id": "pMdTzB0jsEo6",
        "outputId": "bb09151f-05d3-412a-b92d-8658d8314431"
      },
      "source": [
        "# Definindo os valores nulos como\n",
        "dataset['pollution'].fillna(0, inplace=True)\n",
        "# Remove as primeiras 24 houras, que apresentavam registros não coletados\n",
        "dataset = dataset[24:]\n",
        "# Exibe o estado atual da base\n",
        "print(dataset.head(5))"
      ],
      "execution_count": 6,
      "outputs": [
        {
          "output_type": "stream",
          "text": [
            "                     pollution  dew  temp   press wnd_dir  wnd_spd  snow  rain\n",
            "date                                                                          \n",
            "2010-01-02 00:00:00      129.0  -16  -4.0  1020.0      SE     1.79     0     0\n",
            "2010-01-02 01:00:00      148.0  -15  -4.0  1020.0      SE     2.68     0     0\n",
            "2010-01-02 02:00:00      159.0  -11  -5.0  1021.0      SE     3.57     0     0\n",
            "2010-01-02 03:00:00      181.0   -7  -5.0  1022.0      SE     5.36     1     0\n",
            "2010-01-02 04:00:00      138.0   -7  -5.0  1022.0      SE     6.25     2     0\n"
          ],
          "name": "stdout"
        }
      ]
    },
    {
      "cell_type": "markdown",
      "metadata": {
        "id": "8CMSoPeouVDe"
      },
      "source": [
        "## 1.2. Visualizando os dados"
      ]
    },
    {
      "cell_type": "markdown",
      "metadata": {
        "id": "9cUvaVWTuXrO"
      },
      "source": [
        "Por se tratar de uma série temporal com vários dados de entrada, vamos visualizar o comportamento de cada uma das colunas numéricas. "
      ]
    },
    {
      "cell_type": "code",
      "metadata": {
        "colab": {
          "base_uri": "https://localhost:8080/",
          "height": 447
        },
        "id": "TaC7S1L2uM7y",
        "outputId": "f8ae468c-7fd2-42f2-b74f-a0a298ffcaca"
      },
      "source": [
        "import matplotlib.pyplot as plt\n",
        "values = dataset.values\n",
        "# specify columns to plot\n",
        "groups = [0, 1, 2, 3, 5, 6, 7]\n",
        "i = 1\n",
        "# plot each column\n",
        "plt.figure(figsize=(10,7), dpi=100)\n",
        "for group in groups:\n",
        "\tplt.subplot(len(groups), 1, i)\n",
        "\tplt.plot(values[:, group])\n",
        "\tplt.title(dataset.columns[group], y=0.5, loc='right')\n",
        "\ti += 1\n",
        "plt.show()"
      ],
      "execution_count": 7,
      "outputs": [
        {
          "output_type": "display_data",
          "data": {
            "image/png": "[encoded data removed]",
            "text/plain": [
              "<Figure size 1000x700 with 7 Axes>"
            ]
          },
          "metadata": {
            "tags": [],
            "needs_background": "light"
          }
        }
      ]
    },
    {
      "cell_type": "markdown",
      "metadata": {
        "id": "gv9CyP-HxIRi"
      },
      "source": [
        "# 2. Preparando um modelo LSTM multivarido\n",
        "\n",
        "Com os dados organizados vamos dar sequência à preparação dos dados específica para o modelo e criar o modelo para treinamento e validação ao fim da seção."
      ]
    },
    {
      "cell_type": "markdown",
      "metadata": {
        "id": "ezITWqSNxf8x"
      },
      "source": [
        "## 2.1. Preparando os dados"
      ]
    },
    {
      "cell_type": "markdown",
      "metadata": {
        "id": "zMbabvbhyBtw"
      },
      "source": [
        "Primeiramente precisamos enquadrar os dados em um problema de aprendizado supervisionado e normalizar as variáveis de entrada. Para o primeiro passo, criamnos uma predição da poluição com base no momento imediatamente anterior. Essa opção é mais simples e atende ao pré-requisito do aprendizado supervisionado, podendo-se utilizar as últimas 24 horas por exemplo. O importante nessa etapa é que seja possível predizer o próximo valor com base nos anteriores. Com esse objetivo vamos criar a função `series_to_supervised` a seguir:"
      ]
    },
    {
      "cell_type": "code",
      "metadata": {
        "id": "sESsQFo6udFp"
      },
      "source": [
        "# convert series to supervised learning\n",
        "def series_to_supervised(data, n_in=1, n_out=1, dropnan=True):\n",
        "\tn_vars = 1 if type(data) is list else data.shape[1]\n",
        "\tdf = pd.DataFrame(data)\n",
        "\tcols, names = list(), list()\n",
        "\t# input sequence (t-n, ... t-1)\n",
        "\tfor i in range(n_in, 0, -1):\n",
        "\t\tcols.append(df.shift(i))\n",
        "\t\tnames += [('var%d(t-%d)' % (j+1, i)) for j in range(n_vars)]\n",
        "\t# forecast sequence (t, t+1, ... t+n)\n",
        "\tfor i in range(0, n_out):\n",
        "\t\tcols.append(df.shift(-i))\n",
        "\t\tif i == 0:\n",
        "\t\t\tnames += [('var%d(t)' % (j+1)) for j in range(n_vars)]\n",
        "\t\telse:\n",
        "\t\t\tnames += [('var%d(t+%d)' % (j+1, i)) for j in range(n_vars)]\n",
        "\t# put it all together\n",
        "\tagg = pd.concat(cols, axis=1)\n",
        "\tagg.columns = names\n",
        "\t# drop rows with NaN values\n",
        "\tif dropnan:\n",
        "\t\tagg.dropna(inplace=True)\n",
        "\treturn agg"
      ],
      "execution_count": 8,
      "outputs": []
    },
    {
      "cell_type": "markdown",
      "metadata": {
        "id": "_v-QLKk4zrLc"
      },
      "source": [
        "Antes de aplicar a função criada, vamos normalizar os dados e tratar a coluna referente à direção do vento, que é uma variável categórica, para se tornar numérica."
      ]
    },
    {
      "cell_type": "code",
      "metadata": {
        "id": "iD2N1BVNzjSw"
      },
      "source": [
        "from sklearn.preprocessing import LabelEncoder, MinMaxScaler\n",
        "\n",
        "# integer encode direction\n",
        "encoder = LabelEncoder()\n",
        "values[:,4] = encoder.fit_transform(values[:,4])\n",
        "# ensure all data is float\n",
        "values = values.astype('float32')\n",
        "# normalize features\n",
        "scaler = MinMaxScaler(feature_range=(0, 1))\n",
        "scaled = scaler.fit_transform(values)"
      ],
      "execution_count": 9,
      "outputs": []
    },
    {
      "cell_type": "markdown",
      "metadata": {
        "id": "nzwm_qHL0NoH"
      },
      "source": [
        "Com os dados categóricos tratados e dados numéricos normalizados, já podemos aplicar a função e transformar a base em um problema supervisionado e aplicar uma predição com os dados do momento anterior. Nesse momento, podemos remover as colunas adicionais que não serão preditas junto com o nível de poluição do momento atual."
      ]
    },
    {
      "cell_type": "code",
      "metadata": {
        "colab": {
          "base_uri": "https://localhost:8080/"
        },
        "id": "DZYxOQDxz_hw",
        "outputId": "0d02ee84-9b1a-4bef-c0b6-a14a99daf855"
      },
      "source": [
        "# frame as supervised learning\n",
        "reframed = series_to_supervised(scaled, 1, 1)\n",
        "# drop columns we don't want to predict: columns from the current timestamp. \n",
        "# Only pollution value matters here\n",
        "reframed.drop(reframed.columns[[9,10,11,12,13,14,15]], axis=1, inplace=True)\n",
        "print(reframed.head())"
      ],
      "execution_count": 10,
      "outputs": [
        {
          "output_type": "stream",
          "text": [
            "   var1(t-1)  var2(t-1)  var3(t-1)  ...  var7(t-1)  var8(t-1)   var1(t)\n",
            "1   0.129779   0.352941   0.245902  ...   0.000000        0.0  0.148893\n",
            "2   0.148893   0.367647   0.245902  ...   0.000000        0.0  0.159960\n",
            "3   0.159960   0.426471   0.229508  ...   0.000000        0.0  0.182093\n",
            "4   0.182093   0.485294   0.229508  ...   0.037037        0.0  0.138833\n",
            "5   0.138833   0.485294   0.229508  ...   0.074074        0.0  0.109658\n",
            "\n",
            "[5 rows x 9 columns]\n"
          ],
          "name": "stdout"
        }
      ]
    },
    {
      "cell_type": "markdown",
      "metadata": {
        "id": "0zT6QALX2_EW"
      },
      "source": [
        "## 2.2. Definindo o modelo"
      ]
    },
    {
      "cell_type": "markdown",
      "metadata": {
        "id": "VbBTS9YK3BIs"
      },
      "source": [
        "Primeiramente vamos separar a base de dados em uma amostra de treino e teste. Para exemplificar evitar um tempo alto de treinamento, serão utilizados dados apenas do primeiro ano disponível e predizer os próximos 4 anos.\n",
        "\n",
        "Considerando um série temporal, é preciso separar os dados de treino e teste de forma sequencial. Para isso vamos calcular o total de horas que teremos em 1 ano e separar os dados com base nesse volume."
      ]
    },
    {
      "cell_type": "code",
      "metadata": {
        "colab": {
          "base_uri": "https://localhost:8080/"
        },
        "id": "EBzbc_WS0jHC",
        "outputId": "6b8ba0b2-56f0-486b-ff45-49df2bc4215d"
      },
      "source": [
        "n_train_years = 1\n",
        "# split into train and test sets\n",
        "values = reframed.values\n",
        "n_train_hours = 365 * n_train_years * 24\n",
        "train = values[:n_train_hours, :]\n",
        "test = values[n_train_hours:, :]\n",
        "\n",
        "# split into input and outputs\n",
        "train_X, train_y = train[:, :-1], train[:, -1]\n",
        "test_X, test_y = test[:, :-1], test[:, -1]\n",
        "print(train_X.shape, train_y.shape, test_X.shape, test_y.shape)"
      ],
      "execution_count": 11,
      "outputs": [
        {
          "output_type": "stream",
          "text": [
            "(8760, 8) (8760,) (35039, 8) (35039,)\n"
          ],
          "name": "stdout"
        }
      ]
    },
    {
      "cell_type": "markdown",
      "metadata": {
        "id": "AETEwL-c4hYB"
      },
      "source": [
        "Para o modelo LSTM, precisamos formatar os dados em uma estrutura 3D, como esperado pelas redes LSTM no padrão [*samples*, *timestamps*, *features*]."
      ]
    },
    {
      "cell_type": "code",
      "metadata": {
        "colab": {
          "base_uri": "https://localhost:8080/"
        },
        "id": "mRXqk2uA4YHA",
        "outputId": "545c0656-eabc-4d8d-a63d-0ea78edd55ff"
      },
      "source": [
        "# reshape input to be 3D [samples, timesteps, features]\n",
        "train_X = train_X.reshape((train_X.shape[0], 1, train_X.shape[1]))\n",
        "test_X = test_X.reshape((test_X.shape[0], 1, test_X.shape[1]))\n",
        "print(train_X.shape, train_y.shape, test_X.shape, test_y.shape)"
      ],
      "execution_count": 12,
      "outputs": [
        {
          "output_type": "stream",
          "text": [
            "(8760, 1, 8) (8760,) (35039, 1, 8) (35039,)\n"
          ],
          "name": "stdout"
        }
      ]
    },
    {
      "cell_type": "markdown",
      "metadata": {
        "id": "xvK0YDoO5FFm"
      },
      "source": [
        "Com os dados no formato adequado já podemos iniciar a definição da rede LSTM. Para este problema, vamos utilizar 50 neurônios na primeira camada e 1 neurônio na camada de saída e para compilar no Keras, vamos utilizar a função de perda MAE (*Mean Absolute Error*) e o algoritmo de otimizacão ADAM. Os dados de entrada serão no formato de 1 instante e 8 características."
      ]
    },
    {
      "cell_type": "code",
      "metadata": {
        "id": "DvCgQFuX5tQo"
      },
      "source": [
        "from keras import models, layers\n",
        "\n",
        "# design network\n",
        "model = models.Sequential()\n",
        "model.add(layers.LSTM(50, input_shape=(train_X.shape[1], train_X.shape[2])))\n",
        "model.add(layers.Dense(1))\n",
        "model.compile(loss='mae', optimizer='adam')"
      ],
      "execution_count": 13,
      "outputs": []
    },
    {
      "cell_type": "markdown",
      "metadata": {
        "id": "rrBHsGZT6bOV"
      },
      "source": [
        "Com a rede neural definida e compilada, já podemos realizar o treinamento do modelo e visualizar os dados de treino."
      ]
    },
    {
      "cell_type": "markdown",
      "metadata": {
        "id": "axfcOhFc6lWx"
      },
      "source": [
        ""
      ]
    },
    {
      "cell_type": "code",
      "metadata": {
        "id": "rnO2qJ7m4_Sa"
      },
      "source": [
        "# fit network\n",
        "history = model.fit(train_X, train_y, epochs=50, batch_size=72, \n",
        "                    validation_data=(test_X, test_y), verbose=0, shuffle=False)"
      ],
      "execution_count": 14,
      "outputs": []
    },
    {
      "cell_type": "markdown",
      "metadata": {
        "id": "tLmKsPkw7flJ"
      },
      "source": [
        "Com o modelo pronto e treinado conseguimos visualizar os dados de treino:"
      ]
    },
    {
      "cell_type": "code",
      "metadata": {
        "colab": {
          "base_uri": "https://localhost:8080/",
          "height": 265
        },
        "id": "AsCt3Ip56m19",
        "outputId": "ceded7ef-b4ec-4ba0-f970-9561754b1c60"
      },
      "source": [
        "# plot history\n",
        "plt.plot(history.history['loss'], label='train')\n",
        "plt.plot(history.history['val_loss'], label='test')\n",
        "plt.legend()\n",
        "plt.show()"
      ],
      "execution_count": 15,
      "outputs": [
        {
          "output_type": "display_data",
          "data": {
            "image/png": "[encoded data removed]",
            "text/plain": [
              "<Figure size 432x288 with 1 Axes>"
            ]
          },
          "metadata": {
            "tags": [],
            "needs_background": "light"
          }
        }
      ]
    },
    {
      "cell_type": "markdown",
      "metadata": {
        "id": "OMYzHhqs8ym2"
      },
      "source": [
        "## 2.3. Avaliando o modelo"
      ]
    },
    {
      "cell_type": "markdown",
      "metadata": {
        "id": "ceZZyE_l82Pm"
      },
      "source": [
        "Já estamos com tudo preparado para realizar as predições do restante da base e avaliar o desempenho do modelo que foi criado."
      ]
    },
    {
      "cell_type": "code",
      "metadata": {
        "id": "y-RRD2BO7lcG"
      },
      "source": [
        "# make a prediction\n",
        "yhat = model.predict(test_X)\n",
        "test_X = test_X.reshape((test_X.shape[0], test_X.shape[2]))"
      ],
      "execution_count": 16,
      "outputs": []
    },
    {
      "cell_type": "markdown",
      "metadata": {
        "id": "KVFF817mTXEr"
      },
      "source": [
        "Com as predições realizadas, precisamos reverter a escala que adotamos para que seja possível comparar com os dados originais e obtermos as métricas de avaliação. O `MinMaxScaler` possui uma função que inverte a escala adotada previamente. Vamos utilizá-la a seguir:"
      ]
    },
    {
      "cell_type": "code",
      "metadata": {
        "id": "ekgIa0vW-qLr"
      },
      "source": [
        "import numpy as np\n",
        "\n",
        "# invert scaling for forecast\n",
        "inv_yhat = np.concatenate((yhat, test_X[:, 1:]), axis=1)\n",
        "inv_yhat = scaler.inverse_transform(inv_yhat)\n",
        "inv_yhat = inv_yhat[:,0]\n",
        "\n",
        "# invert scaling for actual\n",
        "test_y = test_y.reshape((len(test_y), 1))\n",
        "inv_y = np.concatenate((test_y, test_X[:, 1:]), axis=1)\n",
        "inv_y = scaler.inverse_transform(inv_y)\n",
        "inv_y = inv_y[:,0]"
      ],
      "execution_count": 17,
      "outputs": []
    },
    {
      "cell_type": "markdown",
      "metadata": {
        "id": "9EPzd_gPVDlP"
      },
      "source": [
        "Após inverter a escala aplicada nas predições e na base original, podemos calcular o RMSE: "
      ]
    },
    {
      "cell_type": "code",
      "metadata": {
        "colab": {
          "base_uri": "https://localhost:8080/"
        },
        "id": "tTGjgYQHU2T7",
        "outputId": "3f8a7a18-db41-4a8f-d4a9-48c67320ecba"
      },
      "source": [
        "from math import sqrt\n",
        "from sklearn.metrics import mean_squared_error\n",
        "\n",
        "# calculate RMSE\n",
        "rmse = sqrt(mean_squared_error(inv_y, inv_yhat))\n",
        "print('Test RMSE: %.3f' % rmse)"
      ],
      "execution_count": 18,
      "outputs": [
        {
          "output_type": "stream",
          "text": [
            "Test RMSE: 26.632\n"
          ],
          "name": "stdout"
        }
      ]
    },
    {
      "cell_type": "markdown",
      "metadata": {
        "id": "9EPbKKl5Y-SC"
      },
      "source": [
        "# 3. Treinando com Múltiplos momentos anteriores"
      ]
    },
    {
      "cell_type": "markdown",
      "metadata": {
        "id": "aWNJjkw-lErF"
      },
      "source": [
        "As diferenças para realizar o treinamento do modelo de predição utilizando vários deslocamentos anteriores são muito pequenas. Precisamos estar atentos apenas a alguns detalhes. Para o exemplo, vamos utilizar 3 horas prévias como entrada. \n"
      ]
    },
    {
      "cell_type": "code",
      "metadata": {
        "id": "FTqINuDSVaTO",
        "colab": {
          "base_uri": "https://localhost:8080/",
          "height": 241
        },
        "outputId": "9fb4fdec-8ca6-4958-8dfa-c999b6767b61"
      },
      "source": [
        "# specify the number of lag hours\n",
        "n_hours = 3\n",
        "n_features = 8\n",
        "# frame as supervised learning\n",
        "multilag_reframed = series_to_supervised(scaled, n_hours, 1)\n",
        "multilag_reframed.head()"
      ],
      "execution_count": 19,
      "outputs": [
        {
          "output_type": "execute_result",
          "data": {
            "text/html": [
              "<div>\n",
              "<style scoped>\n",
              "    .dataframe tbody tr th:only-of-type {\n",
              "        vertical-align: middle;\n",
              "    }\n",
              "\n",
              "    .dataframe tbody tr th {\n",
              "        vertical-align: top;\n",
              "    }\n",
              "\n",
              "    .dataframe thead th {\n",
              "        text-align: right;\n",
              "    }\n",
              "</style>\n",
              "<table border=\"1\" class=\"dataframe\">\n",
              "  <thead>\n",
              "    <tr style=\"text-align: right;\">\n",
              "      <th></th>\n",
              "      <th>var1(t-3)</th>\n",
              "      <th>var2(t-3)</th>\n",
              "      <th>var3(t-3)</th>\n",
              "      <th>var4(t-3)</th>\n",
              "      <th>var5(t-3)</th>\n",
              "      <th>var6(t-3)</th>\n",
              "      <th>var7(t-3)</th>\n",
              "      <th>var8(t-3)</th>\n",
              "      <th>var1(t-2)</th>\n",
              "      <th>var2(t-2)</th>\n",
              "      <th>var3(t-2)</th>\n",
              "      <th>var4(t-2)</th>\n",
              "      <th>var5(t-2)</th>\n",
              "      <th>var6(t-2)</th>\n",
              "      <th>var7(t-2)</th>\n",
              "      <th>var8(t-2)</th>\n",
              "      <th>var1(t-1)</th>\n",
              "      <th>var2(t-1)</th>\n",
              "      <th>var3(t-1)</th>\n",
              "      <th>var4(t-1)</th>\n",
              "      <th>var5(t-1)</th>\n",
              "      <th>var6(t-1)</th>\n",
              "      <th>var7(t-1)</th>\n",
              "      <th>var8(t-1)</th>\n",
              "      <th>var1(t)</th>\n",
              "      <th>var2(t)</th>\n",
              "      <th>var3(t)</th>\n",
              "      <th>var4(t)</th>\n",
              "      <th>var5(t)</th>\n",
              "      <th>var6(t)</th>\n",
              "      <th>var7(t)</th>\n",
              "      <th>var8(t)</th>\n",
              "    </tr>\n",
              "  </thead>\n",
              "  <tbody>\n",
              "    <tr>\n",
              "      <th>3</th>\n",
              "      <td>0.129779</td>\n",
              "      <td>0.352941</td>\n",
              "      <td>0.245902</td>\n",
              "      <td>0.527273</td>\n",
              "      <td>0.666667</td>\n",
              "      <td>0.002290</td>\n",
              "      <td>0.000000</td>\n",
              "      <td>0.0</td>\n",
              "      <td>0.148893</td>\n",
              "      <td>0.367647</td>\n",
              "      <td>0.245902</td>\n",
              "      <td>0.527273</td>\n",
              "      <td>0.666667</td>\n",
              "      <td>0.003811</td>\n",
              "      <td>0.000000</td>\n",
              "      <td>0.0</td>\n",
              "      <td>0.159960</td>\n",
              "      <td>0.426471</td>\n",
              "      <td>0.229508</td>\n",
              "      <td>0.545454</td>\n",
              "      <td>0.666667</td>\n",
              "      <td>0.005332</td>\n",
              "      <td>0.000000</td>\n",
              "      <td>0.0</td>\n",
              "      <td>0.182093</td>\n",
              "      <td>0.485294</td>\n",
              "      <td>0.229508</td>\n",
              "      <td>0.563637</td>\n",
              "      <td>0.666667</td>\n",
              "      <td>0.008391</td>\n",
              "      <td>0.037037</td>\n",
              "      <td>0.0</td>\n",
              "    </tr>\n",
              "    <tr>\n",
              "      <th>4</th>\n",
              "      <td>0.148893</td>\n",
              "      <td>0.367647</td>\n",
              "      <td>0.245902</td>\n",
              "      <td>0.527273</td>\n",
              "      <td>0.666667</td>\n",
              "      <td>0.003811</td>\n",
              "      <td>0.000000</td>\n",
              "      <td>0.0</td>\n",
              "      <td>0.159960</td>\n",
              "      <td>0.426471</td>\n",
              "      <td>0.229508</td>\n",
              "      <td>0.545454</td>\n",
              "      <td>0.666667</td>\n",
              "      <td>0.005332</td>\n",
              "      <td>0.000000</td>\n",
              "      <td>0.0</td>\n",
              "      <td>0.182093</td>\n",
              "      <td>0.485294</td>\n",
              "      <td>0.229508</td>\n",
              "      <td>0.563637</td>\n",
              "      <td>0.666667</td>\n",
              "      <td>0.008391</td>\n",
              "      <td>0.037037</td>\n",
              "      <td>0.0</td>\n",
              "      <td>0.138833</td>\n",
              "      <td>0.485294</td>\n",
              "      <td>0.229508</td>\n",
              "      <td>0.563637</td>\n",
              "      <td>0.666667</td>\n",
              "      <td>0.009912</td>\n",
              "      <td>0.074074</td>\n",
              "      <td>0.0</td>\n",
              "    </tr>\n",
              "    <tr>\n",
              "      <th>5</th>\n",
              "      <td>0.159960</td>\n",
              "      <td>0.426471</td>\n",
              "      <td>0.229508</td>\n",
              "      <td>0.545454</td>\n",
              "      <td>0.666667</td>\n",
              "      <td>0.005332</td>\n",
              "      <td>0.000000</td>\n",
              "      <td>0.0</td>\n",
              "      <td>0.182093</td>\n",
              "      <td>0.485294</td>\n",
              "      <td>0.229508</td>\n",
              "      <td>0.563637</td>\n",
              "      <td>0.666667</td>\n",
              "      <td>0.008391</td>\n",
              "      <td>0.037037</td>\n",
              "      <td>0.0</td>\n",
              "      <td>0.138833</td>\n",
              "      <td>0.485294</td>\n",
              "      <td>0.229508</td>\n",
              "      <td>0.563637</td>\n",
              "      <td>0.666667</td>\n",
              "      <td>0.009912</td>\n",
              "      <td>0.074074</td>\n",
              "      <td>0.0</td>\n",
              "      <td>0.109658</td>\n",
              "      <td>0.485294</td>\n",
              "      <td>0.213115</td>\n",
              "      <td>0.563637</td>\n",
              "      <td>0.666667</td>\n",
              "      <td>0.011433</td>\n",
              "      <td>0.111111</td>\n",
              "      <td>0.0</td>\n",
              "    </tr>\n",
              "    <tr>\n",
              "      <th>6</th>\n",
              "      <td>0.182093</td>\n",
              "      <td>0.485294</td>\n",
              "      <td>0.229508</td>\n",
              "      <td>0.563637</td>\n",
              "      <td>0.666667</td>\n",
              "      <td>0.008391</td>\n",
              "      <td>0.037037</td>\n",
              "      <td>0.0</td>\n",
              "      <td>0.138833</td>\n",
              "      <td>0.485294</td>\n",
              "      <td>0.229508</td>\n",
              "      <td>0.563637</td>\n",
              "      <td>0.666667</td>\n",
              "      <td>0.009912</td>\n",
              "      <td>0.074074</td>\n",
              "      <td>0.0</td>\n",
              "      <td>0.109658</td>\n",
              "      <td>0.485294</td>\n",
              "      <td>0.213115</td>\n",
              "      <td>0.563637</td>\n",
              "      <td>0.666667</td>\n",
              "      <td>0.011433</td>\n",
              "      <td>0.111111</td>\n",
              "      <td>0.0</td>\n",
              "      <td>0.105634</td>\n",
              "      <td>0.485294</td>\n",
              "      <td>0.213115</td>\n",
              "      <td>0.581818</td>\n",
              "      <td>0.666667</td>\n",
              "      <td>0.014492</td>\n",
              "      <td>0.148148</td>\n",
              "      <td>0.0</td>\n",
              "    </tr>\n",
              "    <tr>\n",
              "      <th>7</th>\n",
              "      <td>0.138833</td>\n",
              "      <td>0.485294</td>\n",
              "      <td>0.229508</td>\n",
              "      <td>0.563637</td>\n",
              "      <td>0.666667</td>\n",
              "      <td>0.009912</td>\n",
              "      <td>0.074074</td>\n",
              "      <td>0.0</td>\n",
              "      <td>0.109658</td>\n",
              "      <td>0.485294</td>\n",
              "      <td>0.213115</td>\n",
              "      <td>0.563637</td>\n",
              "      <td>0.666667</td>\n",
              "      <td>0.011433</td>\n",
              "      <td>0.111111</td>\n",
              "      <td>0.0</td>\n",
              "      <td>0.105634</td>\n",
              "      <td>0.485294</td>\n",
              "      <td>0.213115</td>\n",
              "      <td>0.581818</td>\n",
              "      <td>0.666667</td>\n",
              "      <td>0.014492</td>\n",
              "      <td>0.148148</td>\n",
              "      <td>0.0</td>\n",
              "      <td>0.124748</td>\n",
              "      <td>0.485294</td>\n",
              "      <td>0.229508</td>\n",
              "      <td>0.600000</td>\n",
              "      <td>0.666667</td>\n",
              "      <td>0.017551</td>\n",
              "      <td>0.000000</td>\n",
              "      <td>0.0</td>\n",
              "    </tr>\n",
              "  </tbody>\n",
              "</table>\n",
              "</div>"
            ],
            "text/plain": [
              "   var1(t-3)  var2(t-3)  var3(t-3)  ...   var6(t)   var7(t)  var8(t)\n",
              "3   0.129779   0.352941   0.245902  ...  0.008391  0.037037      0.0\n",
              "4   0.148893   0.367647   0.245902  ...  0.009912  0.074074      0.0\n",
              "5   0.159960   0.426471   0.229508  ...  0.011433  0.111111      0.0\n",
              "6   0.182093   0.485294   0.229508  ...  0.014492  0.148148      0.0\n",
              "7   0.138833   0.485294   0.229508  ...  0.017551  0.000000      0.0\n",
              "\n",
              "[5 rows x 32 columns]"
            ]
          },
          "metadata": {
            "tags": []
          },
          "execution_count": 19
        }
      ]
    },
    {
      "cell_type": "markdown",
      "metadata": {
        "id": "LP0_AxfFmxcW"
      },
      "source": [
        "Neste caso não vamos precisar remover as colunas de todos os campos do momento que vamos prever. Sendo assim, considerando que temos $3*8+8$ colunas nessa nova abordagem, para definir as colunas de entrada e saída vamos utilizar as primeiras 24 colunas como observações de entrada referentes à 8 características das últimas 3 horas e apenas a última coluna representando o nível de poluição que queremos predizer. "
      ]
    },
    {
      "cell_type": "code",
      "metadata": {
        "colab": {
          "base_uri": "https://localhost:8080/"
        },
        "id": "7kwAUH_6msLm",
        "outputId": "419bea12-a81b-4d77-e00c-fb756cd65035"
      },
      "source": [
        "# split into train and test sets\n",
        "values = multilag_reframed.values\n",
        "n_train_hours = 365 * 24\n",
        "train = values[:n_train_hours, :]\n",
        "test = values[n_train_hours:, :]\n",
        "\n",
        "# split into input and outputs\n",
        "n_obs = n_hours * n_features\n",
        "train_X, train_y = train[:, :n_obs], train[:, -n_features]\n",
        "test_X, test_y = test[:, :n_obs], test[:, -n_features]\n",
        "print(train_X.shape, len(train_X), train_y.shape)"
      ],
      "execution_count": 49,
      "outputs": [
        {
          "output_type": "stream",
          "text": [
            "(8760, 24) 8760 (8760,)\n"
          ],
          "name": "stdout"
        }
      ]
    },
    {
      "cell_type": "markdown",
      "metadata": {
        "id": "3-pyYnT0o-7d"
      },
      "source": [
        "Com as colunas das características selecionadas, vamos formatar os dados para satisfazer o padrão esperado pelo modelo:"
      ]
    },
    {
      "cell_type": "code",
      "metadata": {
        "colab": {
          "base_uri": "https://localhost:8080/"
        },
        "id": "l-F4XVwim6q4",
        "outputId": "45e664f8-8c53-45a7-dea3-fbc39dbb32b0"
      },
      "source": [
        "# reshape input to be 3D [samples, timesteps, features]\n",
        "train_X = train_X.reshape((train_X.shape[0], n_hours, n_features))\n",
        "test_X = test_X.reshape((test_X.shape[0], n_hours, n_features))\n",
        "print(train_X.shape, train_y.shape, test_X.shape, test_y.shape)"
      ],
      "execution_count": 52,
      "outputs": [
        {
          "output_type": "stream",
          "text": [
            "(8760, 3, 8) (8760,) (35037, 3, 8) (35037,)\n"
          ],
          "name": "stdout"
        }
      ]
    },
    {
      "cell_type": "markdown",
      "metadata": {
        "id": "WbnZqMFpzGxj"
      },
      "source": [
        "A definição do modelo não muda, podemos realizar o mesmo processo:"
      ]
    },
    {
      "cell_type": "code",
      "metadata": {
        "colab": {
          "base_uri": "https://localhost:8080/",
          "height": 268
        },
        "id": "sC83TmTZzDmn",
        "outputId": "dca926cd-c202-4381-e5a7-69be35cb0f21"
      },
      "source": [
        "# design network\n",
        "model = models.Sequential()\n",
        "model.add(layers.LSTM(50, input_shape=(train_X.shape[1], train_X.shape[2])))\n",
        "model.add(layers.Dense(1))\n",
        "model.compile(loss='mae', optimizer='adam')\n",
        "# fit network\n",
        "history = model.fit(train_X, train_y, epochs=50, batch_size=72, validation_data=(test_X, test_y), verbose=0, shuffle=False)\n",
        "# plot history\n",
        "plt.plot(history.history['loss'], label='train')\n",
        "plt.plot(history.history['val_loss'], label='test')\n",
        "plt.legend()\n",
        "plt.show()"
      ],
      "execution_count": 55,
      "outputs": [
        {
          "output_type": "display_data",
          "data": {
            "image/png": "[encoded data removed]",
            "text/plain": [
              "<Figure size 432x288 with 1 Axes>"
            ]
          },
          "metadata": {
            "tags": [],
            "needs_background": "light"
          }
        }
      ]
    },
    {
      "cell_type": "markdown",
      "metadata": {
        "id": "7NPRfHVD0Ec6"
      },
      "source": [
        "Nesse novo formato com 8 colunas de cada momento anterior, precisamos levar em consideração a forma de avaliar o modelo. Basicamente o ponto de atenção é em relação aos dados de entrada que possuem 7 características."
      ]
    },
    {
      "cell_type": "code",
      "metadata": {
        "id": "dUQLZfdHzUEQ"
      },
      "source": [
        "# make a prediction\n",
        "yhat = model.predict(test_X)\n",
        "test_X = test_X.reshape((test_X.shape[0], n_hours*n_features))\n",
        "# invert scaling for forecast\n",
        "inv_yhat = concatenate((yhat, test_X[:, -7:]), axis=1)\n",
        "inv_yhat = scaler.inverse_transform(inv_yhat)\n",
        "inv_yhat = inv_yhat[:,0]\n",
        "# invert scaling for actual\n",
        "test_y = test_y.reshape((len(test_y), 1))\n",
        "inv_y = concatenate((test_y, test_X[:, -7:]), axis=1)\n",
        "inv_y = scaler.inverse_transform(inv_y)\n",
        "inv_y = inv_y[:,0]"
      ],
      "execution_count": 64,
      "outputs": []
    },
    {
      "cell_type": "markdown",
      "metadata": {
        "id": "pS-0x8fp2kyE"
      },
      "source": [
        "Após realizar a inversão da escala nos dados de teste e treino nesse novo formato, já podemos avaliar o modelo corretamente."
      ]
    },
    {
      "cell_type": "code",
      "metadata": {
        "colab": {
          "base_uri": "https://localhost:8080/"
        },
        "id": "vR24gre41eZR",
        "outputId": "7858a5d5-e8a6-48cb-e787-9396f2b7e8b0"
      },
      "source": [
        "# calculate RMSE\n",
        "rmse = sqrt(mean_squared_error(inv_y, inv_yhat))\n",
        "print('Test RMSE: %.3f' % rmse)"
      ],
      "execution_count": 65,
      "outputs": [
        {
          "output_type": "stream",
          "text": [
            "Test RMSE: 26.367\n"
          ],
          "name": "stdout"
        }
      ]
    },
    {
      "cell_type": "markdown",
      "metadata": {
        "id": "sHAITQlV21zn"
      },
      "source": [
        "Com essa avaliação notamos que não obtivemos nenhum benefício utilizando mais momentos, só aumentou a complexidade para lidar com os dados de treino e com as transformações."
      ]
    }
  ]
}